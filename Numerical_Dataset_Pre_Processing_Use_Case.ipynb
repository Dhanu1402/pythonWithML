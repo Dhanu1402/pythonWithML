{
  "nbformat": 4,
  "nbformat_minor": 0,
  "metadata": {
    "colab": {
      "provenance": [],
      "authorship_tag": "ABX9TyPhdkjFOpTO97N7pjeIxNrb",
      "include_colab_link": true
    },
    "kernelspec": {
      "name": "python3",
      "display_name": "Python 3"
    },
    "language_info": {
      "name": "python"
    }
  },
  "cells": [
    {
      "cell_type": "markdown",
      "metadata": {
        "id": "view-in-github",
        "colab_type": "text"
      },
      "source": [
        "<a href=\"https://colab.research.google.com/github/Dhanu1402/python_with_ml/blob/main/Numerical_Dataset_Pre_Processing_Use_Case.ipynb\" target=\"_parent\"><img src=\"https://colab.research.google.com/assets/colab-badge.svg\" alt=\"Open In Colab\"/></a>"
      ]
    },
    {
      "cell_type": "code",
      "execution_count": 2,
      "metadata": {
        "id": "myC5aUwI58xy"
      },
      "outputs": [],
      "source": [
        "# nothing started yet"
      ]
    },
    {
      "cell_type": "code",
      "source": [],
      "metadata": {
        "id": "kxOLYwehEjQP"
      },
      "execution_count": null,
      "outputs": []
    }
  ]
}