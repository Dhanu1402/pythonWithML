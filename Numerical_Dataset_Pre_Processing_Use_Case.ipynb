{
  "nbformat": 4,
  "nbformat_minor": 0,
  "metadata": {
    "colab": {
      "provenance": [],
      "authorship_tag": "ABX9TyMM9J18bWe62TTAEuClKn6b",
      "include_colab_link": true
    },
    "kernelspec": {
      "name": "python3",
      "display_name": "Python 3"
    },
    "language_info": {
      "name": "python"
    }
  },
  "cells": [
    {
      "cell_type": "markdown",
      "metadata": {
        "id": "view-in-github",
        "colab_type": "text"
      },
      "source": [
        "<a href=\"https://colab.research.google.com/github/Dhanu1402/python_with_ml/blob/main/Numerical_Dataset_Pre_Processing_Use_Case.ipynb\" target=\"_parent\"><img src=\"https://colab.research.google.com/assets/colab-badge.svg\" alt=\"Open In Colab\"/></a>"
      ]
    },
    {
      "cell_type": "code",
      "execution_count": null,
      "metadata": {
        "id": "myC5aUwI58xy"
      },
      "outputs": [],
      "source": [
        "# nothing started yet"
      ]
    },
    {
      "cell_type": "code",
      "source": [
        "# just for mainting git streak"
      ],
      "metadata": {
        "id": "kxOLYwehEjQP"
      },
      "execution_count": null,
      "outputs": []
    },
    {
      "cell_type": "code",
      "source": [
        "# just for mainting git streak 1"
      ],
      "metadata": {
        "id": "9Y6l8tWtxXj-"
      },
      "execution_count": 1,
      "outputs": []
    },
    {
      "cell_type": "code",
      "source": [
        "# just for mainting git streak 2"
      ],
      "metadata": {
        "id": "39miUWN_bEqp"
      },
      "execution_count": 1,
      "outputs": []
    },
    {
      "cell_type": "code",
      "source": [],
      "metadata": {
        "id": "q1efHzOr7DdP"
      },
      "execution_count": null,
      "outputs": []
    }
  ]
}