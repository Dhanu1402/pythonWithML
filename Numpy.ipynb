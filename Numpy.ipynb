{
  "nbformat": 4,
  "nbformat_minor": 0,
  "metadata": {
    "colab": {
      "provenance": [],
      "authorship_tag": "ABX9TyMW/680gtj23cXSUZxtOfP1",
      "include_colab_link": true
    },
    "kernelspec": {
      "name": "python3",
      "display_name": "Python 3"
    },
    "language_info": {
      "name": "python"
    }
  },
  "cells": [
    {
      "cell_type": "markdown",
      "metadata": {
        "id": "view-in-github",
        "colab_type": "text"
      },
      "source": [
        "<a href=\"https://colab.research.google.com/github/Dhanu1402/python_with_ml/blob/main/Numpy.ipynb\" target=\"_parent\"><img src=\"https://colab.research.google.com/assets/colab-badge.svg\" alt=\"Open In Colab\"/></a>"
      ]
    },
    {
      "cell_type": "markdown",
      "source": [
        "NumPy - numerical python\n",
        "\n",
        "Advantages of numpy arrays :-  \n",
        "1. Allows several mathematical operations\n",
        "2. Faster operations"
      ],
      "metadata": {
        "id": "0qwdCsUO3KRe"
      }
    },
    {
      "cell_type": "code",
      "execution_count": 1,
      "metadata": {
        "id": "gzuXtI0AeW9O"
      },
      "outputs": [],
      "source": [
        "import numpy as np"
      ]
    },
    {
      "cell_type": "markdown",
      "source": [
        "List vs Numpy - Time taken"
      ],
      "metadata": {
        "id": "jcC4hIfd5TVW"
      }
    },
    {
      "cell_type": "code",
      "source": [
        "from time import process_time"
      ],
      "metadata": {
        "id": "Dp13lQH-5ETZ"
      },
      "execution_count": 2,
      "outputs": []
    },
    {
      "cell_type": "markdown",
      "source": [
        "Time taken by list"
      ],
      "metadata": {
        "id": "77x2UnLW5cD7"
      }
    },
    {
      "cell_type": "code",
      "source": [
        "python_list = [i for i in range(10000)]\n",
        "start_time = process_time()\n",
        "python_list = [i + 5 for i in python_list]\n",
        "end_time = process_time()\n",
        "print(end_time - start_time) # ans will be in seconds"
      ],
      "metadata": {
        "colab": {
          "base_uri": "https://localhost:8080/"
        },
        "id": "GOPZyNfP5a8t",
        "outputId": "da3d0e66-62f6-42b8-a426-489ef04207ce"
      },
      "execution_count": 5,
      "outputs": [
        {
          "output_type": "stream",
          "name": "stdout",
          "text": [
            "0.0006477589999995814\n"
          ]
        }
      ]
    },
    {
      "cell_type": "code",
      "source": [
        "np_array = np.array([i for i in range(10000)])\n",
        "start_time = process_time()\n",
        "np_array += 5 \n",
        "end_time = process_time()\n",
        "print(end_time - start_time) # ans will be in seconds"
      ],
      "metadata": {
        "colab": {
          "base_uri": "https://localhost:8080/"
        },
        "id": "x0RrzfbK5zJ9",
        "outputId": "4bb6a9d9-abce-41c1-94bd-4f04968f36b2"
      },
      "execution_count": 6,
      "outputs": [
        {
          "output_type": "stream",
          "name": "stdout",
          "text": [
            "0.0017875849999997584\n"
          ]
        }
      ]
    },
    {
      "cell_type": "markdown",
      "source": [
        "Numpy Arrays"
      ],
      "metadata": {
        "id": "1ErK_HT06pCN"
      }
    },
    {
      "cell_type": "code",
      "source": [
        "#list\n",
        "list1 = [1,2,3,4]\n",
        "print(list1)\n",
        "type(list1)"
      ],
      "metadata": {
        "colab": {
          "base_uri": "https://localhost:8080/"
        },
        "id": "Hpxk4sTr6glt",
        "outputId": "38016745-362a-4d35-f6d9-c2e6b9224909"
      },
      "execution_count": 8,
      "outputs": [
        {
          "output_type": "stream",
          "name": "stdout",
          "text": [
            "[1, 2, 3, 4]\n"
          ]
        },
        {
          "output_type": "execute_result",
          "data": {
            "text/plain": [
              "list"
            ]
          },
          "metadata": {},
          "execution_count": 8
        }
      ]
    },
    {
      "cell_type": "code",
      "source": [
        "np_array = np.array([1,2,3,4])\n",
        "print(np_array)\n",
        "type(np_array)"
      ],
      "metadata": {
        "colab": {
          "base_uri": "https://localhost:8080/"
        },
        "id": "MvOc8x776yok",
        "outputId": "deeee196-771b-498b-dd0c-0a1625eb26c8"
      },
      "execution_count": 9,
      "outputs": [
        {
          "output_type": "stream",
          "name": "stdout",
          "text": [
            "[1 2 3 4]\n"
          ]
        },
        {
          "output_type": "execute_result",
          "data": {
            "text/plain": [
              "numpy.ndarray"
            ]
          },
          "metadata": {},
          "execution_count": 9
        }
      ]
    },
    {
      "cell_type": "code",
      "source": [
        "# creating 1d array\n",
        "a = np.array([1,2,3,4])\n",
        "print(a)"
      ],
      "metadata": {
        "colab": {
          "base_uri": "https://localhost:8080/"
        },
        "id": "GUUXZh4767z3",
        "outputId": "6a97db66-1695-4d53-b0d1-9ed2e76ba146"
      },
      "execution_count": 10,
      "outputs": [
        {
          "output_type": "stream",
          "name": "stdout",
          "text": [
            "[1 2 3 4]\n"
          ]
        }
      ]
    },
    {
      "cell_type": "code",
      "source": [
        "a.shape # through thos commad can find rows and columns of a array"
      ],
      "metadata": {
        "colab": {
          "base_uri": "https://localhost:8080/"
        },
        "id": "dAKqJ1Lm7HwX",
        "outputId": "90643fcd-5472-458a-8848-6b17b3aecc14"
      },
      "execution_count": 12,
      "outputs": [
        {
          "output_type": "execute_result",
          "data": {
            "text/plain": [
              "(4,)"
            ]
          },
          "metadata": {},
          "execution_count": 12
        }
      ]
    },
    {
      "cell_type": "code",
      "source": [
        "b = np.array([(1,2,3,4),(5,6,7,8)])\n",
        "print(b)"
      ],
      "metadata": {
        "colab": {
          "base_uri": "https://localhost:8080/"
        },
        "id": "7wecfege7JWt",
        "outputId": "1517f0fa-9bbb-4a58-dafa-cf6090da41d6"
      },
      "execution_count": 15,
      "outputs": [
        {
          "output_type": "stream",
          "name": "stdout",
          "text": [
            "[[1 2 3 4]\n",
            " [5 6 7 8]]\n"
          ]
        }
      ]
    },
    {
      "cell_type": "code",
      "source": [
        "b.shape"
      ],
      "metadata": {
        "colab": {
          "base_uri": "https://localhost:8080/"
        },
        "id": "BPIUNYEA8mnJ",
        "outputId": "b9894b6b-8383-4ec7-d6e1-15057c53b6a1"
      },
      "execution_count": 16,
      "outputs": [
        {
          "output_type": "execute_result",
          "data": {
            "text/plain": [
              "(2, 4)"
            ]
          },
          "metadata": {},
          "execution_count": 16
        }
      ]
    },
    {
      "cell_type": "code",
      "source": [
        "c = np.array([(1,2,3,4),(5,6,7,8)], dtype = float)\n",
        "print(c)"
      ],
      "metadata": {
        "colab": {
          "base_uri": "https://localhost:8080/"
        },
        "id": "gt1pEoXp8xW_",
        "outputId": "be0dea19-85a8-4863-f559-ca6ee0841a63"
      },
      "execution_count": 17,
      "outputs": [
        {
          "output_type": "stream",
          "name": "stdout",
          "text": [
            "[[1. 2. 3. 4.]\n",
            " [5. 6. 7. 8.]]\n"
          ]
        }
      ]
    },
    {
      "cell_type": "markdown",
      "source": [
        "Initial placeholders in numpy arrays"
      ],
      "metadata": {
        "id": "ZedC_KKE8_Yh"
      }
    },
    {
      "cell_type": "code",
      "source": [
        "# create a numpy array of zeros\n",
        "x = np.zeros((4,5))\n",
        "print(x)"
      ],
      "metadata": {
        "colab": {
          "base_uri": "https://localhost:8080/"
        },
        "id": "5jf1wtkz88oV",
        "outputId": "3e9e23a5-56bc-40f9-b02f-22fc5b32c37c"
      },
      "execution_count": 20,
      "outputs": [
        {
          "output_type": "stream",
          "name": "stdout",
          "text": [
            "[[0. 0. 0. 0. 0.]\n",
            " [0. 0. 0. 0. 0.]\n",
            " [0. 0. 0. 0. 0.]\n",
            " [0. 0. 0. 0. 0.]]\n"
          ]
        }
      ]
    },
    {
      "cell_type": "code",
      "source": [
        "# create a numpy array of ones\n",
        "y = np.ones((3,3))\n",
        "print(y)"
      ],
      "metadata": {
        "colab": {
          "base_uri": "https://localhost:8080/"
        },
        "id": "pfgUJ4wO9MeW",
        "outputId": "72757ae9-952e-48bc-94e6-8a631d2480d9"
      },
      "execution_count": 23,
      "outputs": [
        {
          "output_type": "stream",
          "name": "stdout",
          "text": [
            "[[1. 1. 1.]\n",
            " [1. 1. 1.]\n",
            " [1. 1. 1.]]\n"
          ]
        }
      ]
    },
    {
      "cell_type": "code",
      "source": [
        "# array of particular value\n",
        "z = np.full((5,4), 5)\n",
        "print(z)"
      ],
      "metadata": {
        "colab": {
          "base_uri": "https://localhost:8080/"
        },
        "id": "zvvuVpiGAWLL",
        "outputId": "807eedda-b19c-47d4-b135-82abee25916c"
      },
      "execution_count": 25,
      "outputs": [
        {
          "output_type": "stream",
          "name": "stdout",
          "text": [
            "[[5 5 5 5]\n",
            " [5 5 5 5]\n",
            " [5 5 5 5]\n",
            " [5 5 5 5]\n",
            " [5 5 5 5]]\n"
          ]
        }
      ]
    },
    {
      "cell_type": "code",
      "source": [
        "# creating an identity matrix\n",
        "a = np.eye(4)\n",
        "print(a)"
      ],
      "metadata": {
        "colab": {
          "base_uri": "https://localhost:8080/"
        },
        "id": "fevjLMKXAmqy",
        "outputId": "c6ca1dcf-591a-4035-acc6-a1234df39411"
      },
      "execution_count": 26,
      "outputs": [
        {
          "output_type": "stream",
          "name": "stdout",
          "text": [
            "[[1. 0. 0. 0.]\n",
            " [0. 1. 0. 0.]\n",
            " [0. 0. 1. 0.]\n",
            " [0. 0. 0. 1.]]\n"
          ]
        }
      ]
    },
    {
      "cell_type": "code",
      "source": [
        "#create a numpy array with random values\n",
        "b = np.random.random((3,4))\n",
        "print(b)"
      ],
      "metadata": {
        "colab": {
          "base_uri": "https://localhost:8080/"
        },
        "id": "5ahnqXDXA2KU",
        "outputId": "34480057-4fbe-48f4-a35c-87f9e4abe33b"
      },
      "execution_count": 29,
      "outputs": [
        {
          "output_type": "stream",
          "name": "stdout",
          "text": [
            "[[0.73596697 0.68084044 0.07611487 0.44358179]\n",
            " [0.72188836 0.12145703 0.7424287  0.36076741]\n",
            " [0.02421948 0.69817007 0.42571057 0.03300797]]\n"
          ]
        }
      ]
    },
    {
      "cell_type": "code",
      "source": [
        "# random integer value array\n",
        "c = np.random.randint(10, 100, (3,5))\n",
        "print(c)"
      ],
      "metadata": {
        "colab": {
          "base_uri": "https://localhost:8080/"
        },
        "id": "nPsuy6_OBeYP",
        "outputId": "8f8d74f0-8975-4857-9b82-11064f058e8b"
      },
      "execution_count": 32,
      "outputs": [
        {
          "output_type": "stream",
          "name": "stdout",
          "text": [
            "[[43 98 49 47 42]\n",
            " [63 13 11 85 87]\n",
            " [99 47 63 58 32]]\n"
          ]
        }
      ]
    },
    {
      "cell_type": "code",
      "source": [
        "# array of evenly spaced values\n",
        "d = np.linspace(10, 30, 5) # 10 is starting value 30 is end value and 5 is the number of elements we want to print\n",
        "print(d)"
      ],
      "metadata": {
        "colab": {
          "base_uri": "https://localhost:8080/"
        },
        "id": "GNJGRJ2PBtG_",
        "outputId": "192380c5-1fea-4f33-eddb-bbb960007825"
      },
      "execution_count": 34,
      "outputs": [
        {
          "output_type": "stream",
          "name": "stdout",
          "text": [
            "[10. 15. 20. 25. 30.]\n"
          ]
        }
      ]
    },
    {
      "cell_type": "code",
      "source": [
        "# array of even spaced values --> specifying the step\n",
        "e = np.arange(10,30,5)\n",
        "print(e)"
      ],
      "metadata": {
        "colab": {
          "base_uri": "https://localhost:8080/"
        },
        "id": "TGYN-Jf7CI5u",
        "outputId": "bf06e0bd-8591-4f8c-c1ec-d23f29aabdcd"
      },
      "execution_count": 37,
      "outputs": [
        {
          "output_type": "stream",
          "name": "stdout",
          "text": [
            "[10 15 20 25]\n"
          ]
        }
      ]
    },
    {
      "cell_type": "code",
      "source": [
        "# convert a list ot numpy array\n",
        "list2 = [10,20,20,20,50]\n",
        "np_array = np.asarray(list2)\n",
        "print(np_array)\n",
        "type(np_array)"
      ],
      "metadata": {
        "colab": {
          "base_uri": "https://localhost:8080/"
        },
        "id": "TLF-mFGnCi3l",
        "outputId": "074c82a5-4bc2-4342-9098-c8fe0c7c7790"
      },
      "execution_count": 38,
      "outputs": [
        {
          "output_type": "stream",
          "name": "stdout",
          "text": [
            "[10 20 20 20 50]\n"
          ]
        },
        {
          "output_type": "execute_result",
          "data": {
            "text/plain": [
              "numpy.ndarray"
            ]
          },
          "metadata": {},
          "execution_count": 38
        }
      ]
    },
    {
      "cell_type": "markdown",
      "source": [
        "Analysing a numpy array"
      ],
      "metadata": {
        "id": "EB7a_ykfC5ov"
      }
    },
    {
      "cell_type": "code",
      "source": [
        "c = np.random.randint(10,90,(5,5))\n",
        "print(c)"
      ],
      "metadata": {
        "colab": {
          "base_uri": "https://localhost:8080/"
        },
        "id": "DD-L-x9MC1Lm",
        "outputId": "9ef48fd0-26ee-408d-865f-bbce50b48844"
      },
      "execution_count": 39,
      "outputs": [
        {
          "output_type": "stream",
          "name": "stdout",
          "text": [
            "[[79 20 57 39 15]\n",
            " [35 62 64 38 23]\n",
            " [35 56 23 47 81]\n",
            " [46 29 10 36 78]\n",
            " [66 25 48 36 46]]\n"
          ]
        }
      ]
    },
    {
      "cell_type": "code",
      "source": [
        "# array dimension\n",
        "print(c.shape)"
      ],
      "metadata": {
        "colab": {
          "base_uri": "https://localhost:8080/"
        },
        "id": "LvvcQC1aDBNI",
        "outputId": "b9af59ee-eb3e-4770-ed0c-c69e60882cb2"
      },
      "execution_count": 40,
      "outputs": [
        {
          "output_type": "stream",
          "name": "stdout",
          "text": [
            "(5, 5)\n"
          ]
        }
      ]
    },
    {
      "cell_type": "code",
      "source": [
        "#number of dimensions\n",
        "print(c.ndim)"
      ],
      "metadata": {
        "colab": {
          "base_uri": "https://localhost:8080/"
        },
        "id": "fcJhlL_cDFRd",
        "outputId": "53e130ee-a962-44bd-a02a-3e6e0d8ebfc3"
      },
      "execution_count": 41,
      "outputs": [
        {
          "output_type": "stream",
          "name": "stdout",
          "text": [
            "2\n"
          ]
        }
      ]
    },
    {
      "cell_type": "code",
      "source": [
        "# number of elements in an array\n",
        "print(c.size)"
      ],
      "metadata": {
        "colab": {
          "base_uri": "https://localhost:8080/"
        },
        "id": "Ohfcg7GIDI58",
        "outputId": "10970597-5b23-4d1f-c19f-55b3a0ce8c78"
      },
      "execution_count": 42,
      "outputs": [
        {
          "output_type": "stream",
          "name": "stdout",
          "text": [
            "25\n"
          ]
        }
      ]
    },
    {
      "cell_type": "code",
      "source": [
        "# checking data type of values in array\n",
        "print(c.dtype)"
      ],
      "metadata": {
        "colab": {
          "base_uri": "https://localhost:8080/"
        },
        "id": "7ySj3buVDRhP",
        "outputId": "043225aa-89f4-4e95-d42e-ceb389a56a90"
      },
      "execution_count": 43,
      "outputs": [
        {
          "output_type": "stream",
          "name": "stdout",
          "text": [
            "int64\n"
          ]
        }
      ]
    },
    {
      "cell_type": "markdown",
      "source": [
        "Mathematical operations on a np array"
      ],
      "metadata": {
        "id": "5Yh4m127DZFv"
      }
    },
    {
      "cell_type": "code",
      "source": [
        "list1 = [1,2,3,4,5]\n",
        "list2 = [6,7,8,9,10]\n",
        "print(list1 + list2) # here + whill concatenate the 2 lists"
      ],
      "metadata": {
        "colab": {
          "base_uri": "https://localhost:8080/"
        },
        "id": "dahxnmPvDXDj",
        "outputId": "63678152-9b37-40f3-ddf6-622ada63d725"
      },
      "execution_count": 44,
      "outputs": [
        {
          "output_type": "stream",
          "name": "stdout",
          "text": [
            "[1, 2, 3, 4, 5, 6, 7, 8, 9, 10]\n"
          ]
        }
      ]
    },
    {
      "cell_type": "code",
      "source": [
        "a = np.random.randint(0,10,(3,3))\n",
        "b = np.random.randint(10,20,(3,3))\n",
        "print(a)\n",
        "print(b)"
      ],
      "metadata": {
        "colab": {
          "base_uri": "https://localhost:8080/"
        },
        "id": "mOZBITR8DkSc",
        "outputId": "7bdeaad3-84dd-406f-ae99-23e678481ab2"
      },
      "execution_count": 45,
      "outputs": [
        {
          "output_type": "stream",
          "name": "stdout",
          "text": [
            "[[5 1 2]\n",
            " [6 4 2]\n",
            " [3 0 6]]\n",
            "[[16 19 15]\n",
            " [11 16 13]\n",
            " [15 14 19]]\n"
          ]
        }
      ]
    },
    {
      "cell_type": "code",
      "source": [
        "print(a+b) # here + will be performing element wise addition"
      ],
      "metadata": {
        "colab": {
          "base_uri": "https://localhost:8080/"
        },
        "id": "q77V6-ClD1yN",
        "outputId": "35d64db0-894a-4550-ad12-27095e93cb7a"
      },
      "execution_count": 47,
      "outputs": [
        {
          "output_type": "stream",
          "name": "stdout",
          "text": [
            "[[21 20 17]\n",
            " [17 20 15]\n",
            " [18 14 25]]\n"
          ]
        }
      ]
    },
    {
      "cell_type": "code",
      "source": [
        "print(a-b)\n",
        "print(a*b)\n",
        "print(a/b)"
      ],
      "metadata": {
        "colab": {
          "base_uri": "https://localhost:8080/"
        },
        "id": "DbpD2gjcD6GZ",
        "outputId": "9e10b9ad-1fc2-4d16-e2d6-d46f6d4b97ee"
      },
      "execution_count": 48,
      "outputs": [
        {
          "output_type": "stream",
          "name": "stdout",
          "text": [
            "[[-11 -18 -13]\n",
            " [ -5 -12 -11]\n",
            " [-12 -14 -13]]\n",
            "[[ 80  19  30]\n",
            " [ 66  64  26]\n",
            " [ 45   0 114]]\n",
            "[[0.3125     0.05263158 0.13333333]\n",
            " [0.54545455 0.25       0.15384615]\n",
            " [0.2        0.         0.31578947]]\n"
          ]
        }
      ]
    },
    {
      "cell_type": "code",
      "source": [
        "a = np.random.randint(0,10,(3,3))\n",
        "b = np.random.randint(10,20,(3,3))\n",
        "print(a)\n",
        "print(b)"
      ],
      "metadata": {
        "colab": {
          "base_uri": "https://localhost:8080/"
        },
        "id": "mTOdV09DEFhz",
        "outputId": "c7a01b1c-e10b-47b8-8c9d-c8e61051a4f5"
      },
      "execution_count": 50,
      "outputs": [
        {
          "output_type": "stream",
          "name": "stdout",
          "text": [
            "[[5 7 1]\n",
            " [6 6 2]\n",
            " [0 0 4]]\n",
            "[[16 19 15]\n",
            " [17 15 19]\n",
            " [15 18 17]]\n"
          ]
        }
      ]
    },
    {
      "cell_type": "code",
      "source": [
        "print(np.add(a,b))"
      ],
      "metadata": {
        "colab": {
          "base_uri": "https://localhost:8080/"
        },
        "id": "nb1EWmRVEMmx",
        "outputId": "f2a173e2-03dd-411c-f7c3-9a82e3334115"
      },
      "execution_count": 51,
      "outputs": [
        {
          "output_type": "stream",
          "name": "stdout",
          "text": [
            "[[21 26 16]\n",
            " [23 21 21]\n",
            " [15 18 21]]\n"
          ]
        }
      ]
    },
    {
      "cell_type": "code",
      "source": [
        "print(np.subtract(a,b))"
      ],
      "metadata": {
        "colab": {
          "base_uri": "https://localhost:8080/"
        },
        "id": "qhd2oYdWESh9",
        "outputId": "ec948803-80ae-4799-e4df-320520676a88"
      },
      "execution_count": 52,
      "outputs": [
        {
          "output_type": "stream",
          "name": "stdout",
          "text": [
            "[[-11 -12 -14]\n",
            " [-11  -9 -17]\n",
            " [-15 -18 -13]]\n"
          ]
        }
      ]
    },
    {
      "cell_type": "code",
      "source": [
        "print(np.multiply(a,b))"
      ],
      "metadata": {
        "colab": {
          "base_uri": "https://localhost:8080/"
        },
        "id": "VfJVTD6zEVVy",
        "outputId": "d81e1e42-3c8a-4e7e-de46-3d388eef14ae"
      },
      "execution_count": 53,
      "outputs": [
        {
          "output_type": "stream",
          "name": "stdout",
          "text": [
            "[[ 80 133  15]\n",
            " [102  90  38]\n",
            " [  0   0  68]]\n"
          ]
        }
      ]
    },
    {
      "cell_type": "code",
      "source": [
        "print(np.divide(a,b))"
      ],
      "metadata": {
        "colab": {
          "base_uri": "https://localhost:8080/"
        },
        "id": "HQTvWIpUEYP8",
        "outputId": "fb6300b7-ebd4-4e07-8edc-e13774ac390d"
      },
      "execution_count": 54,
      "outputs": [
        {
          "output_type": "stream",
          "name": "stdout",
          "text": [
            "[[0.3125     0.36842105 0.06666667]\n",
            " [0.35294118 0.4        0.10526316]\n",
            " [0.         0.         0.23529412]]\n"
          ]
        }
      ]
    },
    {
      "cell_type": "markdown",
      "source": [
        "Array Manipulation"
      ],
      "metadata": {
        "id": "kbgQo49gEd0I"
      }
    },
    {
      "cell_type": "code",
      "source": [
        "array = np.random.randint(0,10, (2,3))\n",
        "print(array)\n",
        "print(array.shape)"
      ],
      "metadata": {
        "colab": {
          "base_uri": "https://localhost:8080/"
        },
        "id": "OwhbtTIuEbsR",
        "outputId": "218fc018-0379-420b-9f3b-87915373680b"
      },
      "execution_count": 55,
      "outputs": [
        {
          "output_type": "stream",
          "name": "stdout",
          "text": [
            "[[9 1 1]\n",
            " [7 9 1]]\n",
            "(2, 3)\n"
          ]
        }
      ]
    },
    {
      "cell_type": "code",
      "source": [
        "# transpose\n",
        "trans = np.transpose(array)\n",
        "print(trans)\n",
        "print(trans.shape)"
      ],
      "metadata": {
        "colab": {
          "base_uri": "https://localhost:8080/"
        },
        "id": "7IQL0SoKEomR",
        "outputId": "ecf26b3f-97ef-4a53-8415-2fd0f6c24553"
      },
      "execution_count": 56,
      "outputs": [
        {
          "output_type": "stream",
          "name": "stdout",
          "text": [
            "[[9 7]\n",
            " [1 9]\n",
            " [1 1]]\n",
            "(3, 2)\n"
          ]
        }
      ]
    },
    {
      "cell_type": "code",
      "source": [
        "array = np.random.randint(0,10, (2,3))\n",
        "print(array)\n",
        "print(array.shape)"
      ],
      "metadata": {
        "colab": {
          "base_uri": "https://localhost:8080/"
        },
        "id": "vg65Sk--Ewtx",
        "outputId": "267a31e8-537e-44ad-c132-28b4a2082d31"
      },
      "execution_count": 57,
      "outputs": [
        {
          "output_type": "stream",
          "name": "stdout",
          "text": [
            "[[7 0 3]\n",
            " [4 2 4]]\n",
            "(2, 3)\n"
          ]
        }
      ]
    },
    {
      "cell_type": "code",
      "source": [
        "trans2 = array.T\n",
        "print(trans2)\n",
        "print(trans2.shape)"
      ],
      "metadata": {
        "colab": {
          "base_uri": "https://localhost:8080/"
        },
        "id": "o6eq92rNE1nA",
        "outputId": "b4fbd0d3-0aab-41ab-aad4-6d28f7edd9d2"
      },
      "execution_count": 58,
      "outputs": [
        {
          "output_type": "stream",
          "name": "stdout",
          "text": [
            "[[7 4]\n",
            " [0 2]\n",
            " [3 4]]\n",
            "(3, 2)\n"
          ]
        }
      ]
    },
    {
      "cell_type": "code",
      "source": [
        "# reshaping a array\n",
        "a = np.random.randint(0,10, (2,3))\n",
        "print(a)\n",
        "print(a.shape)\n"
      ],
      "metadata": {
        "colab": {
          "base_uri": "https://localhost:8080/"
        },
        "id": "44qSBS9fE7PO",
        "outputId": "c03ea9cf-d400-482b-8eb7-fc91a71874ca"
      },
      "execution_count": 59,
      "outputs": [
        {
          "output_type": "stream",
          "name": "stdout",
          "text": [
            "[[1 3 0]\n",
            " [2 4 8]]\n",
            "(2, 3)\n"
          ]
        }
      ]
    },
    {
      "cell_type": "code",
      "source": [
        "b = a.reshape(3,2)\n",
        "print(b)\n",
        "print(b.shape)"
      ],
      "metadata": {
        "colab": {
          "base_uri": "https://localhost:8080/"
        },
        "id": "FAIUBmNzFH6t",
        "outputId": "56db4744-ea50-4f70-ddf7-7724e9a5f748"
      },
      "execution_count": 61,
      "outputs": [
        {
          "output_type": "stream",
          "name": "stdout",
          "text": [
            "[[1 3]\n",
            " [0 2]\n",
            " [4 8]]\n",
            "(3, 2)\n"
          ]
        }
      ]
    },
    {
      "cell_type": "code",
      "source": [],
      "metadata": {
        "id": "4jZ1fS-BFLgW"
      },
      "execution_count": null,
      "outputs": []
    }
  ]
}