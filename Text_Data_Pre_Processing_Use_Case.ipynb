{
  "nbformat": 4,
  "nbformat_minor": 0,
  "metadata": {
    "colab": {
      "provenance": [],
      "authorship_tag": "ABX9TyMF/IASWtVIvQ9GkhCCarhN",
      "include_colab_link": true
    },
    "kernelspec": {
      "name": "python3",
      "display_name": "Python 3"
    },
    "language_info": {
      "name": "python"
    }
  },
  "cells": [
    {
      "cell_type": "markdown",
      "metadata": {
        "id": "view-in-github",
        "colab_type": "text"
      },
      "source": [
        "<a href=\"https://colab.research.google.com/github/Dhanu1402/python_with_ml/blob/main/Text_Data_Pre_Processing_Use_Case.ipynb\" target=\"_parent\"><img src=\"https://colab.research.google.com/assets/colab-badge.svg\" alt=\"Open In Colab\"/></a>"
      ]
    },
    {
      "cell_type": "code",
      "execution_count": 1,
      "metadata": {
        "id": "M2oQnf8yFdqb"
      },
      "outputs": [],
      "source": [
        "# will start soon"
      ]
    },
    {
      "cell_type": "code",
      "source": [],
      "metadata": {
        "id": "BzgvILguGeZi"
      },
      "execution_count": null,
      "outputs": []
    }
  ]
}